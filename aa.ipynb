{
 "cells": [
  {
   "cell_type": "code",
   "execution_count": null,
   "id": "654994d2",
   "metadata": {},
   "outputs": [],
   "source": [
    "import sqlite3\n",
    "import pandas as pd\n",
    "\n",
    "conn = sqlite3.connect(\"pipeline.db\")"
   ]
  },
  {
   "cell_type": "code",
   "execution_count": 5,
   "id": "d1eb7ec7",
   "metadata": {},
   "outputs": [
    {
     "name": "stdout",
     "output_type": "stream",
     "text": [
      "Index(['SEQN', 'WTSAF2YR', 'LBXTLG', 'LBDTRSI', 'LBDLDL', 'LBDLDLSI',\n",
      "       'LBDLDLM', 'LBDLDMSI', 'LBDLDLN', 'LBDLDNSI'],\n",
      "      dtype='object')\n"
     ]
    }
   ],
   "source": [
    "import pandas as pd\n",
    "import sqlite3\n",
    "\n",
    "conn = sqlite3.connect(\"pipeline.db\")\n",
    "\n",
    "df_trigly = pd.read_sql(\"SELECT * FROM TRIGLY_L\", conn)\n",
    "print(df_trigly.columns)\n",
    "\n",
    "conn.close()\n"
   ]
  },
  {
   "cell_type": "code",
   "execution_count": 1,
   "id": "b3712c7b",
   "metadata": {},
   "outputs": [
    {
     "name": "stdout",
     "output_type": "stream",
     "text": [
      "              name\n",
      "0             SEQN\n",
      "1          WTPH2YR\n",
      "2         LBXHSCRP\n",
      "3         LBDHRPLC\n",
      "4      SEQN_LIMPIO\n",
      "5   WTPH2YR_LIMPIO\n",
      "6  LBXHSCRP_LIMPIO\n",
      "7  LBDHRPLC_LIMPIO\n"
     ]
    }
   ],
   "source": [
    "import sqlite3\n",
    "import pandas as pd\n",
    "\n",
    "conn = sqlite3.connect(\"pipeline.db\")\n",
    "cols = pd.read_sql(\"PRAGMA table_info(HSCRP_L_LIMPIO);\", conn)\n",
    "print(cols[['name']])\n",
    "conn.close()\n"
   ]
  },
  {
   "cell_type": "code",
   "execution_count": 5,
   "id": "954e6c69",
   "metadata": {},
   "outputs": [
    {
     "name": "stdout",
     "output_type": "stream",
     "text": [
      "Tablas disponibles en pipeline.db:\n",
      "                        name\n",
      "0              OpenFoodFacts\n",
      "1              ODEPA_Precios\n",
      "2             HDL_L_L_LIMPIO\n",
      "3          TRIGLY_L_L_LIMPIO\n",
      "4           TCHOL_L_L_LIMPIO\n",
      "..                       ...\n",
      "132  FDC_FOOD_NUTRIENT_CLEAN\n",
      "133  FDC_FOOD_CATEGORY_CLEAN\n",
      "134   FDC_FOOD_PORTION_CLEAN\n",
      "135      ODEPA_PRECIOS_CLEAN\n",
      "136         NHANES_INTEGRADO\n",
      "\n",
      "[137 rows x 1 columns]\n"
     ]
    }
   ],
   "source": [
    "import sqlite3\n",
    "import pandas as pd\n",
    "\n",
    "conn = sqlite3.connect(\"pipeline.db\")\n",
    "\n",
    "# Listar todas las tablas en la base\n",
    "tablas = pd.read_sql(\"SELECT name FROM sqlite_master WHERE type='table';\", conn)\n",
    "print(\"Tablas disponibles en pipeline.db:\")\n",
    "print(tablas)\n",
    "\n",
    "conn.close()\n",
    "\n"
   ]
  }
 ],
 "metadata": {
  "kernelspec": {
   "display_name": "Python 3",
   "language": "python",
   "name": "python3"
  },
  "language_info": {
   "codemirror_mode": {
    "name": "ipython",
    "version": 3
   },
   "file_extension": ".py",
   "mimetype": "text/x-python",
   "name": "python",
   "nbconvert_exporter": "python",
   "pygments_lexer": "ipython3",
   "version": "3.13.7"
  }
 },
 "nbformat": 4,
 "nbformat_minor": 5
}
