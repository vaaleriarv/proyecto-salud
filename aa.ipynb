{
 "cells": [
  {
   "cell_type": "code",
   "execution_count": null,
   "id": "654994d2",
   "metadata": {},
   "outputs": [],
   "source": [
    "import sqlite3\n",
    "import pandas as pd\n",
    "\n",
    "conn = sqlite3.connect(\"pipeline.db\")"
   ]
  },
  {
   "cell_type": "code",
   "execution_count": null,
   "id": "d1eb7ec7",
   "metadata": {},
   "outputs": [
    {
     "name": "stdout",
     "output_type": "stream",
     "text": [
      "Index(['SEQN', 'SDDSRVYR', 'RIDSTATR', 'RIAGENDR', 'RIDAGEYR', 'RIDAGEMN',\n",
      "       'RIDRETH1', 'RIDRETH3', 'RIDEXMON', 'RIDEXAGM', 'DMQMILIZ', 'DMDBORN4',\n",
      "       'DMDYRUSR', 'DMDEDUC2', 'DMDMARTZ', 'RIDEXPRG', 'DMDHHSIZ', 'DMDHRGND',\n",
      "       'DMDHRAGZ', 'DMDHREDZ', 'DMDHRMAZ', 'DMDHSEDZ', 'WTINT2YR', 'WTMEC2YR',\n",
      "       'SDMVSTRA', 'SDMVPSU', 'INDFMPIR'],\n",
      "      dtype='object')\n"
     ]
    }
   ],
   "source": [
    "import pandas as pd\n",
    "import sqlite3\n",
    "\n",
    "conn = sqlite3.connect(\"pipeline.db\")\n",
    "\n",
    "df_demo = pd.read_sql(\"SELECT RIAGENDR FROM DEMO_L\", conn)\n",
    "\n",
    "print(\"Valores únicos reales en RIAGENDR:\")\n",
    "print(df_demo[\"RIAGENDR\"].unique())\n",
    "\n",
    "conn.close()\n"
   ]
  },
  {
   "cell_type": "code",
   "execution_count": 3,
   "id": "1ba9835c",
   "metadata": {},
   "outputs": [
    {
     "name": "stdout",
     "output_type": "stream",
     "text": [
      "[('OpenFoodFacts',), ('ODEPA_Precios',), ('FOLATE_L_LIMPIO',), ('HDL_L_LIMPIO',), ('TRIGLY_L_LIMPIO',), ('TCHOL_L_LIMPIO',), ('INS_L_LIMPIO',), ('DEMO_L_LIMPIO',), ('DR1TOT_L_LIMPIO',), ('DR2TOT_L_LIMPIO',), ('BMX_L_LIMPIO',), ('GLU_L_LIMPIO',), ('HDL_L_L_LIMPIO',), ('TRIGLY_L_L_LIMPIO',), ('TCHOL_L_L_LIMPIO',), ('INS_L_L_LIMPIO',), ('BIOPRO_L_L_LIMPIO',), ('FOLATE_L_L_LIMPIO',), ('FASTQX_L_L_LIMPIO',), ('BRFSS_2024_LIMPIO',), ('NHANES_LIMPIO',), ('ALB_CR_L',), ('AGP_L',), ('HDL_L',), ('TRIGLY_L',), ('TCHOL_L',), ('CBC_L',), ('FASTQX_L',), ('FERTIN_L',), ('FOLATE_L',), ('GHB_L',), ('HEPA_L',), ('HEPB_S_L',), ('HSCRP_L',), ('INS_L',), ('PBCD_L',), ('IHGEM_L',), ('GLU_L',), ('FOLFMS_L',), ('TST_L',), ('BIOPRO_L',), ('TFR_L',), ('UCPREG_L',), ('VID_L',), ('VOCWB_L',), ('BMX_L',), ('DEMO_L',), ('DR1TOT_L',), ('DR2TOT_L',), ('BRFSS_2024',), ('FDC_FOOD',), ('FDC_NUTRIENT',), ('FDC_FOOD_NUTRIENT',), ('FDC_FOOD_CATEGORY',), ('FDC_FOOD_PORTION',), ('ODEPA_2025',)]\n"
     ]
    }
   ],
   "source": [
    "import sqlite3\n",
    "\n",
    "conn = sqlite3.connect(\"pipeline.db\")\n",
    "cursor = conn.cursor()\n",
    "\n",
    "# Listar todas las tablas\n",
    "cursor.execute(\"SELECT name FROM sqlite_master WHERE type='table';\")\n",
    "tablas = cursor.fetchall()\n",
    "print(tablas)\n",
    "\n",
    "conn.close()\n"
   ]
  }
 ],
 "metadata": {
  "kernelspec": {
   "display_name": "Python 3",
   "language": "python",
   "name": "python3"
  },
  "language_info": {
   "codemirror_mode": {
    "name": "ipython",
    "version": 3
   },
   "file_extension": ".py",
   "mimetype": "text/x-python",
   "name": "python",
   "nbconvert_exporter": "python",
   "pygments_lexer": "ipython3",
   "version": "3.13.7"
  }
 },
 "nbformat": 4,
 "nbformat_minor": 5
}
